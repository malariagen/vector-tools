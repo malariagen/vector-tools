{
 "cells": [
  {
   "cell_type": "code",
   "execution_count": 1,
   "metadata": {},
   "outputs": [],
   "source": [
    "import seaborn as sns\n",
    "import matplotlib.pyplot as plt\n",
    "%matplotlib inline"
   ]
  },
  {
   "cell_type": "code",
   "execution_count": 2,
   "metadata": {},
   "outputs": [],
   "source": [
    "import numpy as np\n",
    "from itertools import combinations\n",
    "import allel\n",
    "import pandas as pd\n",
    "from pathlib import Path"
   ]
  },
  {
   "cell_type": "markdown",
   "metadata": {},
   "source": [
    "## Steps\n",
    "\n",
    "1. Load in distance matrix and compute x/y\n",
    "\n",
    "2. Drop samples that failed sample QC\n",
    "\n",
    "3. For each set of replicates assert that the diff is low\\*.\n",
    "Exclude both members of pair if false.\n",
    "Exclude one if true.\n",
    "\n",
    "4. For each pair of non replicates assert the dist is not low\\*.\n",
    "Exclude pair if false\n",
    "No action if \n",
    "\n",
    "\\* low definition tbc."
   ]
  },
  {
   "cell_type": "code",
   "execution_count": 3,
   "metadata": {},
   "outputs": [],
   "source": [
    "threshold = 0.0005\n",
    "sampleset = \"AG1000G-UG\""
   ]
  },
  {
   "cell_type": "code",
   "execution_count": 4,
   "metadata": {},
   "outputs": [],
   "source": [
    "tracking_dir = Path(\"/home/jovyan/vector-ops/tracking\") / sampleset"
   ]
  },
  {
   "cell_type": "code",
   "execution_count": 5,
   "metadata": {},
   "outputs": [],
   "source": [
    "df = pd.read_csv(\"/gcs/observatory/manifest\").rename({\"sample_name\": \"derived_sample_id\"}, axis=1)\n",
    "df[\"FILTER_replicateqc\"] = \"PASS\"\n",
    "df[\"FILTER_isreplicate\"] = \"PASS\""
   ]
  },
  {
   "cell_type": "code",
   "execution_count": 6,
   "metadata": {},
   "outputs": [
    {
     "data": {
      "text/html": [
       "<div>\n",
       "<style scoped>\n",
       "    .dataframe tbody tr th:only-of-type {\n",
       "        vertical-align: middle;\n",
       "    }\n",
       "\n",
       "    .dataframe tbody tr th {\n",
       "        vertical-align: top;\n",
       "    }\n",
       "\n",
       "    .dataframe thead th {\n",
       "        text-align: right;\n",
       "    }\n",
       "</style>\n",
       "<table border=\"1\" class=\"dataframe\">\n",
       "  <thead>\n",
       "    <tr style=\"text-align: right;\">\n",
       "      <th></th>\n",
       "      <th>derived_sample_id</th>\n",
       "      <th>FILTER_replicateqc</th>\n",
       "      <th>FILTER_isreplicate</th>\n",
       "    </tr>\n",
       "  </thead>\n",
       "  <tbody>\n",
       "    <tr>\n",
       "      <th>0</th>\n",
       "      <td>AC0007-C</td>\n",
       "      <td>PASS</td>\n",
       "      <td>PASS</td>\n",
       "    </tr>\n",
       "    <tr>\n",
       "      <th>1</th>\n",
       "      <td>AC0007-Cx</td>\n",
       "      <td>PASS</td>\n",
       "      <td>PASS</td>\n",
       "    </tr>\n",
       "    <tr>\n",
       "      <th>2</th>\n",
       "      <td>AC0008-C</td>\n",
       "      <td>PASS</td>\n",
       "      <td>PASS</td>\n",
       "    </tr>\n",
       "    <tr>\n",
       "      <th>3</th>\n",
       "      <td>AC0009-C</td>\n",
       "      <td>PASS</td>\n",
       "      <td>PASS</td>\n",
       "    </tr>\n",
       "    <tr>\n",
       "      <th>4</th>\n",
       "      <td>AC0009-Cx</td>\n",
       "      <td>PASS</td>\n",
       "      <td>PASS</td>\n",
       "    </tr>\n",
       "  </tbody>\n",
       "</table>\n",
       "</div>"
      ],
      "text/plain": [
       "  derived_sample_id FILTER_replicateqc FILTER_isreplicate\n",
       "0          AC0007-C               PASS               PASS\n",
       "1         AC0007-Cx               PASS               PASS\n",
       "2          AC0008-C               PASS               PASS\n",
       "3          AC0009-C               PASS               PASS\n",
       "4         AC0009-Cx               PASS               PASS"
      ]
     },
     "execution_count": 6,
     "metadata": {},
     "output_type": "execute_result"
    }
   ],
   "source": [
    "df.head()"
   ]
  },
  {
   "cell_type": "code",
   "execution_count": 7,
   "metadata": {},
   "outputs": [],
   "source": [
    "orig_samples = pd.read_csv(tracking_dir / 'original_samples.tsv', sep=\"\\t\")\n",
    "deri_samples = pd.read_csv(tracking_dir / 'derived_samples.tsv', sep=\"\\t\")"
   ]
  },
  {
   "cell_type": "code",
   "execution_count": 8,
   "metadata": {},
   "outputs": [],
   "source": [
    "a = np.load(\"replicate-qc-AG1000G-UG.npz\")"
   ]
  },
  {
   "cell_type": "code",
   "execution_count": 9,
   "metadata": {},
   "outputs": [
    {
     "data": {
      "text/plain": [
       "['cityblock', 'nsites']"
      ]
     },
     "execution_count": 9,
     "metadata": {},
     "output_type": "execute_result"
    }
   ],
   "source": [
    "list(a.keys())"
   ]
  },
  {
   "cell_type": "code",
   "execution_count": 10,
   "metadata": {},
   "outputs": [],
   "source": [
    "dist = a[\"cityblock\"].sum(axis=0) / a[\"nsites\"].sum(axis=0)"
   ]
  },
  {
   "cell_type": "code",
   "execution_count": 12,
   "metadata": {},
   "outputs": [],
   "source": [
    "# assume this is ok for now. Normally use the manifest\n",
    "samples = df[\"derived_sample_id\"].tolist()"
   ]
  },
  {
   "cell_type": "code",
   "execution_count": 13,
   "metadata": {},
   "outputs": [],
   "source": [
    "pairs = list(combinations(range(len(samples)), 2))\n",
    "npairs = len(pairs)\n",
    "del pairs\n",
    "del npairs"
   ]
  },
  {
   "cell_type": "code",
   "execution_count": 14,
   "metadata": {},
   "outputs": [],
   "source": [
    "qc_filters = pd.read_csv(tracking_dir / \"wgs_qc\" / \"qc_filters.tsv\", sep=\"\\t\", index_col=0)"
   ]
  },
  {
   "cell_type": "code",
   "execution_count": 15,
   "metadata": {},
   "outputs": [],
   "source": [
    "passing_samples = (qc_filters == \"PASS\").all(axis=1)\n",
    "passing_samples.name = \"PASS\""
   ]
  },
  {
   "cell_type": "code",
   "execution_count": 16,
   "metadata": {},
   "outputs": [],
   "source": [
    "pass_df = passing_samples.reset_index().query(\"PASS\")"
   ]
  },
  {
   "cell_type": "code",
   "execution_count": 17,
   "metadata": {},
   "outputs": [],
   "source": [
    "pairs_pass = list(combinations(pass_df.index, 2))"
   ]
  },
  {
   "cell_type": "code",
   "execution_count": 18,
   "metadata": {},
   "outputs": [
    {
     "name": "stdout",
     "output_type": "stream",
     "text": [
      "235 236 failed expected pair 0.0005147397701882325\n"
     ]
    }
   ],
   "source": [
    "same_list = []\n",
    "diff_list = []\n",
    "\n",
    "for i, j in pairs_pass:\n",
    "    ix = allel.condensed_coords(i, j, len(samples))\n",
    "    if samples[i][:8] == samples[j][:8]:\n",
    "        \n",
    "        same_list.append(dist[ix])\n",
    "        if dist[ix] >= threshold:\n",
    "            print(i, j, \"failed\", \"expected pair\", dist[ix])\n",
    "            df.loc[i, \"FILTER_replicateqc\"] = \"FAIL\"\n",
    "            df.loc[j, \"FILTER_replicateqc\"] = \"FAIL\"\n",
    "        else:\n",
    "            df.loc[j, \"FILTER_isreplicate\"] = \"FAIL\"\n",
    "            \n",
    "    else:\n",
    "        diff_list.append(dist[ix])\n",
    "        if dist[ix] < threshold:\n",
    "            print(i, j, \"failed\", \"unexpected closeness\", dist[ix])\n",
    "            df.loc[i, \"FILTER_replicateqc\"] = \"FAIL\"\n",
    "            df.loc[j, \"FILTER_replicateqc\"] = \"FAIL\"        "
   ]
  },
  {
   "cell_type": "code",
   "execution_count": 19,
   "metadata": {},
   "outputs": [
    {
     "data": {
      "text/plain": [
       "derived_sample_id      0\n",
       "FILTER_replicateqc     2\n",
       "FILTER_isreplicate    66\n",
       "dtype: int64"
      ]
     },
     "execution_count": 19,
     "metadata": {},
     "output_type": "execute_result"
    }
   ],
   "source": [
    "(df == \"FAIL\").sum(axis=0)"
   ]
  },
  {
   "cell_type": "code",
   "execution_count": 20,
   "metadata": {},
   "outputs": [
    {
     "name": "stderr",
     "output_type": "stream",
     "text": [
      "/opt/conda/lib/python3.6/site-packages/scipy/stats/stats.py:1713: FutureWarning: Using a non-tuple sequence for multidimensional indexing is deprecated; use `arr[tuple(seq)]` instead of `arr[seq]`. In the future this will be interpreted as an array index, `arr[np.array(seq)]`, which will result either in an error or a different result.\n",
      "  return np.add.reduce(sorted[indexer] * weights, axis=axis) / sumval\n"
     ]
    },
    {
     "data": {
      "text/plain": [
       "<matplotlib.legend.Legend at 0x7f97ff906eb8>"
      ]
     },
     "execution_count": 20,
     "metadata": {},
     "output_type": "execute_result"
    },
    {
     "data": {
      "image/png": "[encoded data removed]",
      "text/plain": [
       "<matplotlib.figure.Figure at 0x7f982c43c7f0>"
      ]
     },
     "metadata": {
      "needs_background": "light"
     },
     "output_type": "display_data"
    }
   ],
   "source": [
    "f, ax = plt.subplots()\n",
    "ax.grid(True)\n",
    "sns.despine(ax=ax)\n",
    "sns.distplot(np.array(same_list), ax=ax, label=\"within replicates\")\n",
    "sns.distplot(np.array(diff_list), ax=ax, label=\"outside replicates \")\n",
    "ax.vlines([threshold], *ax.get_ylim(), linestyles=\"dashed\")\n",
    "ax.legend()"
   ]
  },
  {
   "cell_type": "code",
   "execution_count": 21,
   "metadata": {},
   "outputs": [
    {
     "data": {
      "text/html": [
       "<div>\n",
       "<style scoped>\n",
       "    .dataframe tbody tr th:only-of-type {\n",
       "        vertical-align: middle;\n",
       "    }\n",
       "\n",
       "    .dataframe tbody tr th {\n",
       "        vertical-align: top;\n",
       "    }\n",
       "\n",
       "    .dataframe thead th {\n",
       "        text-align: right;\n",
       "    }\n",
       "</style>\n",
       "<table border=\"1\" class=\"dataframe\">\n",
       "  <thead>\n",
       "    <tr style=\"text-align: right;\">\n",
       "      <th></th>\n",
       "      <th>derived_sample_id</th>\n",
       "      <th>FILTER_replicateqc</th>\n",
       "      <th>FILTER_isreplicate</th>\n",
       "    </tr>\n",
       "  </thead>\n",
       "  <tbody>\n",
       "    <tr>\n",
       "      <th>0</th>\n",
       "      <td>AC0007-C</td>\n",
       "      <td>PASS</td>\n",
       "      <td>PASS</td>\n",
       "    </tr>\n",
       "    <tr>\n",
       "      <th>1</th>\n",
       "      <td>AC0007-Cx</td>\n",
       "      <td>PASS</td>\n",
       "      <td>FAIL</td>\n",
       "    </tr>\n",
       "    <tr>\n",
       "      <th>2</th>\n",
       "      <td>AC0008-C</td>\n",
       "      <td>PASS</td>\n",
       "      <td>PASS</td>\n",
       "    </tr>\n",
       "    <tr>\n",
       "      <th>3</th>\n",
       "      <td>AC0009-C</td>\n",
       "      <td>PASS</td>\n",
       "      <td>PASS</td>\n",
       "    </tr>\n",
       "    <tr>\n",
       "      <th>4</th>\n",
       "      <td>AC0009-Cx</td>\n",
       "      <td>PASS</td>\n",
       "      <td>FAIL</td>\n",
       "    </tr>\n",
       "  </tbody>\n",
       "</table>\n",
       "</div>"
      ],
      "text/plain": [
       "  derived_sample_id FILTER_replicateqc FILTER_isreplicate\n",
       "0          AC0007-C               PASS               PASS\n",
       "1         AC0007-Cx               PASS               FAIL\n",
       "2          AC0008-C               PASS               PASS\n",
       "3          AC0009-C               PASS               PASS\n",
       "4         AC0009-Cx               PASS               FAIL"
      ]
     },
     "execution_count": 21,
     "metadata": {},
     "output_type": "execute_result"
    }
   ],
   "source": [
    "df.head()"
   ]
  },
  {
   "cell_type": "code",
   "execution_count": 22,
   "metadata": {},
   "outputs": [],
   "source": [
    "df.to_csv(tracking_dir / 'wgs_qc/replicate_qc_filters.tsv', sep='\\t', index=True)"
   ]
  }
 ],
 "metadata": {
  "kernelspec": {
   "display_name": "Python 3",
   "language": "python",
   "name": "python3"
  },
  "language_info": {
   "codemirror_mode": {
    "name": "ipython",
    "version": 3
   },
   "file_extension": ".py",
   "mimetype": "text/x-python",
   "name": "python",
   "nbconvert_exporter": "python",
   "pygments_lexer": "ipython3",
   "version": "3.6.0"
  }
 },
 "nbformat": 4,
 "nbformat_minor": 2
}
