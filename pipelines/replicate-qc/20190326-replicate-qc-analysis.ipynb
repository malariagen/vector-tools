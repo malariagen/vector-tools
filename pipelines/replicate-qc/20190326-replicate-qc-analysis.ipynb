{
 "cells": [
  {
   "cell_type": "code",
   "execution_count": null,
   "metadata": {},
   "outputs": [],
   "source": [
    "import seaborn as sns\n",
    "import matplotlib.pyplot as plt\n",
    "%matplotlib inline"
   ]
  },
  {
   "cell_type": "code",
   "execution_count": null,
   "metadata": {},
   "outputs": [],
   "source": [
    "import numpy as np\n",
    "from itertools import combinations\n",
    "import allel\n",
    "import pandas as pd\n",
    "from pathlib import Path"
   ]
  },
  {
   "cell_type": "markdown",
   "metadata": {},
   "source": [
    "## Steps\n",
    "\n",
    "1. Load in distance matrix and compute x/y\n",
    "\n",
    "2. Drop samples that failed sample QC\n",
    "\n",
    "3. For each set of replicates assert that the diff is low\\*.\n",
    "Exclude both members of pair if false.\n",
    "Exclude one if true.\n",
    "\n",
    "4. For each pair of non replicates assert the dist is not low\\*.\n",
    "Exclude pair if false\n",
    "No action if \n",
    "\n",
    "\\* low definition tbc."
   ]
  },
  {
   "cell_type": "code",
   "execution_count": null,
   "metadata": {},
   "outputs": [],
   "source": [
    "threshold = 0.0005"
   ]
  },
  {
   "cell_type": "code",
   "execution_count": null,
   "metadata": {},
   "outputs": [],
   "source": [
    "sampleset = Path(\".\").absolute().name\n",
    "sampleset"
   ]
  },
  {
   "cell_type": "code",
   "execution_count": null,
   "metadata": {},
   "outputs": [],
   "source": [
    "tracking_dir = Path(\".\")"
   ]
  },
  {
   "cell_type": "code",
   "execution_count": null,
   "metadata": {},
   "outputs": [],
   "source": [
    "manifest_fn = \"/gcs/observatory/{sampleset}/manifest\".format(sampleset=sampleset)"
   ]
  },
  {
   "cell_type": "code",
   "execution_count": null,
   "metadata": {},
   "outputs": [],
   "source": [
    "df = pd.read_csv(manifest_fn).rename({\"sample_name\": \"derived_sample_id\"}, axis=1)\n",
    "df[\"FILTER_replicateqc\"] = \"PASS\"\n",
    "df[\"FILTER_isreplicate\"] = \"PASS\""
   ]
  },
  {
   "cell_type": "code",
   "execution_count": null,
   "metadata": {},
   "outputs": [],
   "source": [
    "df.head()"
   ]
  },
  {
   "cell_type": "code",
   "execution_count": null,
   "metadata": {},
   "outputs": [],
   "source": [
    "orig_samples = pd.read_csv(tracking_dir / 'original_samples.tsv', sep=\"\\t\")\n",
    "deri_samples = pd.read_csv(tracking_dir / 'derived_samples.tsv', sep=\"\\t\")"
   ]
  },
  {
   "cell_type": "code",
   "execution_count": null,
   "metadata": {},
   "outputs": [],
   "source": [
    "a = np.load(\"replicate-qc-AG1000G-UG.npz\")"
   ]
  },
  {
   "cell_type": "code",
   "execution_count": null,
   "metadata": {},
   "outputs": [],
   "source": [
    "list(a.keys())"
   ]
  },
  {
   "cell_type": "code",
   "execution_count": null,
   "metadata": {},
   "outputs": [],
   "source": [
    "dist = a[\"cityblock\"].sum(axis=0) / a[\"nsites\"].sum(axis=0)"
   ]
  },
  {
   "cell_type": "code",
   "execution_count": null,
   "metadata": {},
   "outputs": [],
   "source": [
    "# assume this is ok for now. Normally use the manifest\n",
    "samples = df[\"derived_sample_id\"].tolist()"
   ]
  },
  {
   "cell_type": "code",
   "execution_count": null,
   "metadata": {},
   "outputs": [],
   "source": [
    "pairs = list(combinations(range(len(samples)), 2))\n",
    "npairs = len(pairs)\n",
    "del pairs\n",
    "del npairs"
   ]
  },
  {
   "cell_type": "code",
   "execution_count": null,
   "metadata": {},
   "outputs": [],
   "source": [
    "qc_filters = pd.read_csv(tracking_dir / \"wgs_qc\" / \"qc_filters.tsv\", sep=\"\\t\", index_col=0)"
   ]
  },
  {
   "cell_type": "code",
   "execution_count": null,
   "metadata": {},
   "outputs": [],
   "source": [
    "passing_samples = (qc_filters == \"PASS\").all(axis=1)\n",
    "passing_samples.name = \"PASS\""
   ]
  },
  {
   "cell_type": "code",
   "execution_count": null,
   "metadata": {},
   "outputs": [],
   "source": [
    "pass_df = passing_samples.reset_index().query(\"PASS\")"
   ]
  },
  {
   "cell_type": "code",
   "execution_count": null,
   "metadata": {},
   "outputs": [],
   "source": [
    "pairs_pass = list(combinations(pass_df.index, 2))"
   ]
  },
  {
   "cell_type": "code",
   "execution_count": null,
   "metadata": {},
   "outputs": [],
   "source": [
    "same_list = []\n",
    "diff_list = []\n",
    "\n",
    "for i, j in pairs_pass:\n",
    "    ix = allel.condensed_coords(i, j, len(samples))\n",
    "    if samples[i][:8] == samples[j][:8]:\n",
    "        \n",
    "        same_list.append(dist[ix])\n",
    "        if dist[ix] >= threshold:\n",
    "            print(i, j, \"failed\", \"expected pair\", dist[ix])\n",
    "            df.loc[i, \"FILTER_replicateqc\"] = \"FAIL\"\n",
    "            df.loc[j, \"FILTER_replicateqc\"] = \"FAIL\"\n",
    "        else:\n",
    "            df.loc[j, \"FILTER_isreplicate\"] = \"FAIL\"\n",
    "            \n",
    "    else:\n",
    "        diff_list.append(dist[ix])\n",
    "        if dist[ix] < threshold:\n",
    "            print(i, j, \"failed\", \"unexpected closeness\", dist[ix])\n",
    "            df.loc[i, \"FILTER_replicateqc\"] = \"FAIL\"\n",
    "            df.loc[j, \"FILTER_replicateqc\"] = \"FAIL\"        "
   ]
  },
  {
   "cell_type": "code",
   "execution_count": null,
   "metadata": {},
   "outputs": [],
   "source": [
    "(df == \"FAIL\").sum(axis=0)"
   ]
  },
  {
   "cell_type": "code",
   "execution_count": null,
   "metadata": {},
   "outputs": [],
   "source": [
    "f, ax = plt.subplots()\n",
    "ax.grid(True)\n",
    "sns.despine(ax=ax)\n",
    "sns.distplot(np.array(same_list), ax=ax, label=\"within replicates\")\n",
    "sns.distplot(np.array(diff_list), ax=ax, label=\"outside replicates \")\n",
    "ax.vlines([threshold], *ax.get_ylim(), linestyles=\"dashed\")\n",
    "ax.legend()"
   ]
  },
  {
   "cell_type": "code",
   "execution_count": null,
   "metadata": {},
   "outputs": [],
   "source": [
    "df.head()"
   ]
  },
  {
   "cell_type": "code",
   "execution_count": null,
   "metadata": {},
   "outputs": [],
   "source": [
    "df.to_csv(tracking_dir / 'wgs_qc/replicate_qc_filters.tsv', sep='\\t', index=True)"
   ]
  }
 ],
 "metadata": {
  "kernelspec": {
   "display_name": "Python 3",
   "language": "python",
   "name": "python3"
  },
  "language_info": {
   "codemirror_mode": {
    "name": "ipython",
    "version": 3
   },
   "file_extension": ".py",
   "mimetype": "text/x-python",
   "name": "python",
   "nbconvert_exporter": "python",
   "pygments_lexer": "ipython3",
   "version": "3.6.0"
  }
 },
 "nbformat": 4,
 "nbformat_minor": 2
}
